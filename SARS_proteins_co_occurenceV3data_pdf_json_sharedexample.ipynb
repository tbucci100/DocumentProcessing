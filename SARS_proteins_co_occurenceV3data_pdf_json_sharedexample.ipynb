{
 "cells": [
  {
   "cell_type": "markdown",
   "metadata": {
    "colab_type": "text",
    "id": "gZOCBv16epRS"
   },
   "source": [
    "# SARS strains and proteins co-occurence"
   ]
  },
  {
   "cell_type": "markdown",
   "metadata": {
    "colab_type": "text",
    "id": "X2v3ANH6epRV"
   },
   "source": [
    "## Protocol\n",
    "\n",
    "Goal of this notebook is analysis co-occurence of different types, stains of SARS and SARS-related proteins and genes\n",
    "\n",
    "We are using fantastic labeled dataset by SiBiteLabs:\n",
    "https://github.com/SciBiteLabs/CORD19\n",
    "\n",
    "### To do:\n",
    "1. Buld dataframe from json-files. Output: data frame with columns ['paper_id','block_id','entity_type_1','..','entity_type_n']. Each row matchs a block. Block is a part of paper's abstract or full_text\n",
    "2. Group SARS strains. Covid-19 is a main group. Output: lists of strains fo each grooup\n",
    "3. Filter papers related to any of SARS group and build dataframe. Output: dataframe with columns ['paper_id','title','authors','year','SARS strain','CVPROT']. Each row matchs paper.\n",
    "4. Plot piechart for strains grous: percent of papers (not blocks) mentioned each strains group. Histogram for strains: top 5 most mentioned strains across the groups.\n",
    "5. Calculate and plot co-ocurence matrix for strains group and proteins (CVPROT). Calcultae andand plot co-ocurence matrix for top 5 most mentioned strains across and proteins (CVPROT). Use data from the block level(not paper)\n",
    "6. Plot histogram: number of CVPROT mentioned at block level for SARS in general"
   ]
  },
  {
   "cell_type": "markdown",
   "metadata": {
    "colab_type": "text",
    "id": "YdXsbVisepTQ"
   },
   "source": [
    "## 3. Filter Papers, Create DataFrame"
   ]
  },
  {
   "cell_type": "code",
   "execution_count": 0,
   "metadata": {
    "colab": {},
    "colab_type": "code",
    "id": "OiiuzQfPepTR"
   },
   "outputs": [],
   "source": [
    "#https://www.kaggle.com/maksimeren/covid-19-literature-clustering\n",
    "#Filter papers related to any of SARS group and build dataframe.\n",
    "#Input: dataframe of all json files\n",
    "#Output: dataframe with columns ['paper_id','title','authors','year','SARS strain','CVPROT']. Each row matchs paper."
   ]
  },
  {
   "cell_type": "code",
   "execution_count": 0,
   "metadata": {
    "colab": {},
    "colab_type": "code",
    "id": "QVNifF9fepTV"
   },
   "outputs": [],
   "source": [
    "data = df.fillna('qqqqq')"
   ]
  },
  {
   "cell_type": "code",
   "execution_count": 39,
   "metadata": {
    "colab": {
     "base_uri": "https://localhost:8080/",
     "height": 221
    },
    "colab_type": "code",
    "id": "JsrglotdKDH3",
    "outputId": "10a958da-47f2-4b12-dd04-b3644632a2fa"
   },
   "outputs": [
    {
     "data": {
      "text/plain": [
       "qqqqq                                        1309117\n",
       "SPIKE_CVHSA                                     7699\n",
       "NCAP_CVHSA                                      2827\n",
       "R1A_CVHSA,R1AB_CVHSA                            2488\n",
       "VEMP_CVHSA                                      1025\n",
       "                                              ...   \n",
       "R1A_CVHSA,SPIKE_CVHSA,NS6_CVHSA                    1\n",
       "NCAP_CVHSA,AP3A_CVHSA,ORF9B_CVHSA                  1\n",
       "NS8A_CVHSA,NS8B_CVHSA,NS7B_CVHSA                   1\n",
       "R1AB_CVHSA,VEMP_CVHSA                              1\n",
       "R1A_CVHSA,NCAP_CVHSA,R1AB_CVHSA,NS6_CVHSA          1\n",
       "Name: CVPROT, Length: 222, dtype: int64"
      ]
     },
     "execution_count": 39,
     "metadata": {
      "tags": []
     },
     "output_type": "execute_result"
    }
   ],
   "source": [
    "data['CVPROT'].value_counts()"
   ]
  },
  {
   "cell_type": "code",
   "execution_count": 0,
   "metadata": {
    "colab": {},
    "colab_type": "code",
    "id": "qJVFnXN9epTZ"
   },
   "outputs": [],
   "source": [
    "#vocab_cvprot (output from upstream processing):\n",
    "\n",
    "vocab_cvprot = {'': 21,\n",
    " 'AP3A_CVHSA': 349,\n",
    " 'NCAP_CVHSA': 4960,\n",
    " 'NS3B_CVHSA': 90,\n",
    " 'NS6_CVHSA': 255,\n",
    " 'NS7A_CVHSA': 93,\n",
    " 'NS7B_CVHSA': 67,\n",
    " 'NS8A_CVHSA': 33,\n",
    " 'NS8B_CVHSA': 20,\n",
    " 'ORF9B_CVHSA': 165,\n",
    " 'R1AB_CVHSA': 3095,\n",
    " 'R1A_CVHSA': 2993,\n",
    " 'SPIKE_CVHSA': 10329,\n",
    " 'VEMP_CVHSA': 2258,\n",
    " 'VME1_CVHSA': 2230,\n",
    " 'Y14_CVHSA': 25}"
   ]
  },
  {
   "cell_type": "code",
   "execution_count": 59,
   "metadata": {
    "colab": {
     "base_uri": "https://localhost:8080/",
     "height": 54
    },
    "colab_type": "code",
    "id": "qxIObHJCJkEd",
    "outputId": "5b18df72-0889-4f54-819e-75e570340834"
   },
   "outputs": [
    {
     "data": {
      "text/plain": [
       "dict_keys(['', 'AP3A_CVHSA', 'NCAP_CVHSA', 'NS3B_CVHSA', 'NS6_CVHSA', 'NS7A_CVHSA', 'NS7B_CVHSA', 'NS8A_CVHSA', 'NS8B_CVHSA', 'ORF9B_CVHSA', 'R1AB_CVHSA', 'R1A_CVHSA', 'SPIKE_CVHSA', 'VEMP_CVHSA', 'VME1_CVHSA', 'Y14_CVHSA'])"
      ]
     },
     "execution_count": 59,
     "metadata": {
      "tags": []
     },
     "output_type": "execute_result"
    }
   ],
   "source": [
    "vocab = vocab_cvprot.keys()\n",
    "vocab"
   ]
  },
  {
   "cell_type": "code",
   "execution_count": 61,
   "metadata": {
    "colab": {
     "base_uri": "https://localhost:8080/",
     "height": 272
    },
    "colab_type": "code",
    "id": "ZaG45AY1S8ge",
    "outputId": "fe7e5b2e-80f3-4ecb-b0aa-dc476b47d428"
   },
   "outputs": [
    {
     "data": {
      "text/plain": [
       "['AP3A_CVHSA',\n",
       " 'NCAP_CVHSA',\n",
       " 'NS3B_CVHSA',\n",
       " 'NS6_CVHSA',\n",
       " 'NS7A_CVHSA',\n",
       " 'NS7B_CVHSA',\n",
       " 'NS8A_CVHSA',\n",
       " 'NS8B_CVHSA',\n",
       " 'ORF9B_CVHSA',\n",
       " 'R1AB_CVHSA',\n",
       " 'R1A_CVHSA',\n",
       " 'SPIKE_CVHSA',\n",
       " 'VEMP_CVHSA',\n",
       " 'VME1_CVHSA',\n",
       " 'Y14_CVHSA']"
      ]
     },
     "execution_count": 61,
     "metadata": {
      "tags": []
     },
     "output_type": "execute_result"
    }
   ],
   "source": [
    "#remove blanks\n",
    "vocab = list(vocab)\n",
    "vocab = vocab[1:]\n",
    "vocab"
   ]
  },
  {
   "cell_type": "code",
   "execution_count": 86,
   "metadata": {
    "colab": {
     "base_uri": "https://localhost:8080/",
     "height": 289
    },
    "colab_type": "code",
    "id": "45T4PRkVepTh",
    "outputId": "5b434ea4-aae0-4566-f1fc-d92ccb4665ca"
   },
   "outputs": [
    {
     "data": {
      "text/html": [
       "<div>\n",
       "<style scoped>\n",
       "    .dataframe tbody tr th:only-of-type {\n",
       "        vertical-align: middle;\n",
       "    }\n",
       "\n",
       "    .dataframe tbody tr th {\n",
       "        vertical-align: top;\n",
       "    }\n",
       "\n",
       "    .dataframe thead th {\n",
       "        text-align: right;\n",
       "    }\n",
       "</style>\n",
       "<table border=\"1\" class=\"dataframe\">\n",
       "  <thead>\n",
       "    <tr style=\"text-align: right;\">\n",
       "      <th></th>\n",
       "      <th>PAPER_ID</th>\n",
       "      <th>SARS_COV</th>\n",
       "      <th>SPECIES</th>\n",
       "      <th>CVPROT</th>\n",
       "    </tr>\n",
       "  </thead>\n",
       "  <tbody>\n",
       "    <tr>\n",
       "      <th>0</th>\n",
       "      <td>39ab0e9d7a93e6a7483bf4851e69cd66d2653256</td>\n",
       "      <td>Severe acute respiratory syndrome coronavirus 2</td>\n",
       "      <td>Coronavirus,Viruses,Insect</td>\n",
       "      <td>SPIKE_CVHSA</td>\n",
       "    </tr>\n",
       "    <tr>\n",
       "      <th>1</th>\n",
       "      <td>39ab0e9d7a93e6a7483bf4851e69cd66d2653256</td>\n",
       "      <td>SARS coronavirus,Severe acute respiratory synd...</td>\n",
       "      <td>Coronavirus,SARS Virus,Humans,Viruses,Insect,C...</td>\n",
       "      <td>SPIKE_CVHSA</td>\n",
       "    </tr>\n",
       "    <tr>\n",
       "      <th>2</th>\n",
       "      <td>39ab0e9d7a93e6a7483bf4851e69cd66d2653256</td>\n",
       "      <td>Severe acute respiratory syndrome coronavirus 2</td>\n",
       "      <td>Humans,Insect</td>\n",
       "      <td>SPIKE_CVHSA</td>\n",
       "    </tr>\n",
       "    <tr>\n",
       "      <th>3</th>\n",
       "      <td>39ab0e9d7a93e6a7483bf4851e69cd66d2653256</td>\n",
       "      <td>viral membrane,Severe acute respiratory syndro...</td>\n",
       "      <td>Agaricales</td>\n",
       "      <td>SPIKE_CVHSA</td>\n",
       "    </tr>\n",
       "    <tr>\n",
       "      <th>4</th>\n",
       "      <td>39ab0e9d7a93e6a7483bf4851e69cd66d2653256</td>\n",
       "      <td>Severe acute respiratory syndrome coronavirus 2</td>\n",
       "      <td>Insect</td>\n",
       "      <td>SPIKE_CVHSA</td>\n",
       "    </tr>\n",
       "  </tbody>\n",
       "</table>\n",
       "</div>"
      ],
      "text/plain": [
       "                                   PAPER_ID  ...       CVPROT\n",
       "0  39ab0e9d7a93e6a7483bf4851e69cd66d2653256  ...  SPIKE_CVHSA\n",
       "1  39ab0e9d7a93e6a7483bf4851e69cd66d2653256  ...  SPIKE_CVHSA\n",
       "2  39ab0e9d7a93e6a7483bf4851e69cd66d2653256  ...  SPIKE_CVHSA\n",
       "3  39ab0e9d7a93e6a7483bf4851e69cd66d2653256  ...  SPIKE_CVHSA\n",
       "4  39ab0e9d7a93e6a7483bf4851e69cd66d2653256  ...  SPIKE_CVHSA\n",
       "\n",
       "[5 rows x 4 columns]"
      ]
     },
     "execution_count": 86,
     "metadata": {
      "tags": []
     },
     "output_type": "execute_result"
    }
   ],
   "source": [
    "sars_paper_id = {'PAPER_ID': [], 'SARS_COV': [],'SPECIES': [],'CVPROT': []}\n",
    "for i in range(0, data.shape[0]):\n",
    "  row = data.iloc[i]\n",
    "  prot_field = row['CVPROT']\n",
    "  prot_field = str(prot_field)\n",
    "  prot_field = prot_field.split(',')\n",
    "  for prot in prot_field:\n",
    "    if prot in vocab:\n",
    "      paper_id = row['paper_id']\n",
    "      SARS_cov = row['SARSCOV']\n",
    "      species = row['SPECIES']\n",
    "      sars_paper_id['PAPER_ID'].append(paper_id)\n",
    "      sars_paper_id['SARS_COV'].append(SARS_cov)\n",
    "      sars_paper_id['SPECIES'].append(species)\n",
    "      sars_paper_id['CVPROT'].append(prot)\n",
    "  \n",
    "df_cvprot = pd.DataFrame(sars_paper_id, columns=['PAPER_ID', 'SARS_COV', 'SPECIES', 'CVPROT'])\n",
    "df_cvprot.head()"
   ]
  },
  {
   "cell_type": "code",
   "execution_count": 87,
   "metadata": {
    "colab": {
     "base_uri": "https://localhost:8080/",
     "height": 34
    },
    "colab_type": "code",
    "id": "FFFVz_lWUhi_",
    "outputId": "d86d67f2-e2d4-44cc-b7b8-07d174a3d01a"
   },
   "outputs": [
    {
     "data": {
      "text/plain": [
       "(26962, 4)"
      ]
     },
     "execution_count": 87,
     "metadata": {
      "tags": []
     },
     "output_type": "execute_result"
    }
   ],
   "source": [
    "df_cvprot.shape"
   ]
  },
  {
   "cell_type": "code",
   "execution_count": 0,
   "metadata": {
    "colab": {},
    "colab_type": "code",
    "id": "knGCIWMIW4qs"
   },
   "outputs": [],
   "source": [
    "#save data\n",
    "df_cvprot.to_csv('data_prot.csv')"
   ]
  },
  {
   "cell_type": "markdown",
   "metadata": {
    "colab_type": "text",
    "id": "7ar9EhUAepTl"
   },
   "source": [
    "## 4. Create Pie Chart, Histogram"
   ]
  },
  {
   "cell_type": "code",
   "execution_count": null,
   "metadata": {},
   "outputs": [],
   "source": [
    "#Plot piechart for strains grous: percent of papers (not blocks) mentioned each strains group. \n",
    "#Histogram for strains: top 5 most mentioned strains across the groups.\n",
    "#Input: dataframe from step 3\n",
    "#Output: Pie charts and histograms"
   ]
  },
  {
   "cell_type": "code",
   "execution_count": 0,
   "metadata": {
    "colab": {},
    "colab_type": "code",
    "id": "wHGmSToQepTm"
   },
   "outputs": [],
   "source": [
    "#check data unique relation - paper ID & protein\n",
    "df_paper_id = df_cvprot[\"PAPER_ID\"]\n",
    "df_prot = df_cvprot[\"CVPROT\"]\n",
    "df_check_unq = pd.concat([df_paper_id, df_prot], axis=1)"
   ]
  },
  {
   "cell_type": "code",
   "execution_count": 91,
   "metadata": {
    "colab": {
     "base_uri": "https://localhost:8080/",
     "height": 34
    },
    "colab_type": "code",
    "id": "58MLI5WyiTW3",
    "outputId": "f4d43676-9588-4659-b4ea-e2782674bfe2"
   },
   "outputs": [
    {
     "data": {
      "text/plain": [
       "(26962, 2)"
      ]
     },
     "execution_count": 91,
     "metadata": {
      "tags": []
     },
     "output_type": "execute_result"
    }
   ],
   "source": [
    "df_check_unq.shape"
   ]
  },
  {
   "cell_type": "code",
   "execution_count": 92,
   "metadata": {
    "colab": {
     "base_uri": "https://localhost:8080/",
     "height": 34
    },
    "colab_type": "code",
    "id": "BvMS6T3FepTq",
    "outputId": "c700b9ec-a19d-4eaa-da8e-ed1cbc056e63"
   },
   "outputs": [
    {
     "data": {
      "text/plain": [
       "(10404, 2)"
      ]
     },
     "execution_count": 92,
     "metadata": {
      "tags": []
     },
     "output_type": "execute_result"
    }
   ],
   "source": [
    "df_check_unq = df_check_unq.drop_duplicates()\n",
    "df_check_unq.shape"
   ]
  },
  {
   "cell_type": "code",
   "execution_count": 128,
   "metadata": {
    "colab": {
     "base_uri": "https://localhost:8080/",
     "height": 306
    },
    "colab_type": "code",
    "id": "F5n12m8fepTv",
    "outputId": "35a38473-2fe1-45b7-cf76-0a0760f4dc5a"
   },
   "outputs": [
    {
     "data": {
      "text/plain": [
       "CVPROT       CVPROT     \n",
       "AP3A_CVHSA   AP3A_CVHSA      134\n",
       "NCAP_CVHSA   NCAP_CVHSA     2136\n",
       "NS3B_CVHSA   NS3B_CVHSA       55\n",
       "NS6_CVHSA    NS6_CVHSA       147\n",
       "NS7A_CVHSA   NS7A_CVHSA       59\n",
       "NS7B_CVHSA   NS7B_CVHSA       37\n",
       "NS8A_CVHSA   NS8A_CVHSA       19\n",
       "NS8B_CVHSA   NS8B_CVHSA       11\n",
       "ORF9B_CVHSA  ORF9B_CVHSA      69\n",
       "R1AB_CVHSA   R1AB_CVHSA      925\n",
       "R1A_CVHSA    R1A_CVHSA       839\n",
       "SPIKE_CVHSA  SPIKE_CVHSA    3537\n",
       "VEMP_CVHSA   VEMP_CVHSA     1129\n",
       "VME1_CVHSA   VME1_CVHSA     1296\n",
       "Y14_CVHSA    Y14_CVHSA        11\n",
       "Name: CVPROT, dtype: int64"
      ]
     },
     "execution_count": 128,
     "metadata": {
      "tags": []
     },
     "output_type": "execute_result"
    }
   ],
   "source": [
    "#Plot piechart for strains groups: percent of papers (not blocks) mentioned each strains group. \n",
    "#IMPORTANT:This is proteins.\n",
    "#get count of papers that contain at least one mention of the protein\n",
    "prot_counts = df_check_unq.groupby('CVPROT').CVPROT.value_counts()\n",
    "prot_counts"
   ]
  },
  {
   "cell_type": "code",
   "execution_count": 94,
   "metadata": {
    "colab": {
     "base_uri": "https://localhost:8080/",
     "height": 34
    },
    "colab_type": "code",
    "id": "EpWKp24eepT2",
    "outputId": "50050689-e17a-48db-be16-c8f4608eb4df"
   },
   "outputs": [
    {
     "data": {
      "text/plain": [
       "5352"
      ]
     },
     "execution_count": 94,
     "metadata": {
      "tags": []
     },
     "output_type": "execute_result"
    }
   ],
   "source": [
    "#drop duplicate papers & get total paper count\n",
    "papers = df_cvprot[\"PAPER_ID\"]\n",
    "papers.shape[0]\n",
    "papers = papers.drop_duplicates()\n",
    "papers.shape[0]\n",
    "total_papers = papers.shape[0]\n",
    "total_papers"
   ]
  },
  {
   "cell_type": "code",
   "execution_count": 159,
   "metadata": {
    "colab": {
     "base_uri": "https://localhost:8080/",
     "height": 289
    },
    "colab_type": "code",
    "id": "IycXfLVPpJZz",
    "outputId": "4ddc731e-d8de-40df-c82b-11f66bbb5abb"
   },
   "outputs": [
    {
     "data": {
      "text/plain": [
       "0      AP3A_CVHSA\n",
       "1      NCAP_CVHSA\n",
       "2      NS3B_CVHSA\n",
       "3       NS6_CVHSA\n",
       "4      NS7A_CVHSA\n",
       "5      NS7B_CVHSA\n",
       "6      NS8A_CVHSA\n",
       "7      NS8B_CVHSA\n",
       "8     ORF9B_CVHSA\n",
       "9      R1AB_CVHSA\n",
       "10      R1A_CVHSA\n",
       "11    SPIKE_CVHSA\n",
       "12     VEMP_CVHSA\n",
       "13     VME1_CVHSA\n",
       "14      Y14_CVHSA\n",
       "Name: 0, dtype: object"
      ]
     },
     "execution_count": 159,
     "metadata": {
      "tags": []
     },
     "output_type": "execute_result"
    }
   ],
   "source": [
    "#get sorted listed of proteins\n",
    "proteins = df_cvprot.CVPROT.value_counts()\n",
    "proteins = proteins.index.to_list()\n",
    "proteins = pd.Series(proteins)\n",
    "proteins = proteins.sort_values().reset_index()\n",
    "proteins = pd.DataFrame(proteins)\n",
    "proteins = proteins.iloc[:,1]\n",
    "proteins"
   ]
  },
  {
   "cell_type": "code",
   "execution_count": 160,
   "metadata": {
    "colab": {
     "base_uri": "https://localhost:8080/",
     "height": 34
    },
    "colab_type": "code",
    "id": "Y8174-pSt5f9",
    "outputId": "9a16e289-a26a-49b0-9a79-4c1aef37bfbd"
   },
   "outputs": [
    {
     "data": {
      "text/plain": [
       "[134, 2136, 55, 147, 59, 37, 19, 11, 69, 925, 839, 3537, 1129, 1296, 11]"
      ]
     },
     "execution_count": 160,
     "metadata": {
      "tags": []
     },
     "output_type": "execute_result"
    }
   ],
   "source": [
    "#create pite chart input\n",
    "protein_counts = prot_counts.values.tolist()\n",
    "protein_counts"
   ]
  },
  {
   "cell_type": "code",
   "execution_count": 168,
   "metadata": {
    "colab": {
     "base_uri": "https://localhost:8080/",
     "height": 527
    },
    "colab_type": "code",
    "id": "f06NKI6cvQor",
    "outputId": "3cfd7c14-9758-4676-a4a9-9f46c5aa4aa7"
   },
   "outputs": [
    {
     "data": {
      "text/plain": [
       "{'percent': [3.0,\n",
       "  40.0,\n",
       "  1.0,\n",
       "  3.0,\n",
       "  1.0,\n",
       "  1.0,\n",
       "  0.0,\n",
       "  0.0,\n",
       "  1.0,\n",
       "  17.0,\n",
       "  16.0,\n",
       "  66.0,\n",
       "  21.0,\n",
       "  24.0,\n",
       "  0.0],\n",
       " 'protein': ['AP3A_CVHSA',\n",
       "  'NCAP_CVHSA',\n",
       "  'NS3B_CVHSA',\n",
       "  'NS6_CVHSA',\n",
       "  'NS7A_CVHSA',\n",
       "  'NS7B_CVHSA',\n",
       "  'NS8A_CVHSA',\n",
       "  'NS8B_CVHSA',\n",
       "  'ORF9B_CVHSA',\n",
       "  'R1AB_CVHSA',\n",
       "  'R1A_CVHSA',\n",
       "  'SPIKE_CVHSA',\n",
       "  'VEMP_CVHSA',\n",
       "  'VME1_CVHSA',\n",
       "  'Y14_CVHSA']}"
      ]
     },
     "execution_count": 168,
     "metadata": {
      "tags": []
     },
     "output_type": "execute_result"
    }
   ],
   "source": [
    "#create pite chart input\n",
    "pie_chart_input = {'protein': [], 'percent': []}\n",
    "for i in range(0,proteins.shape[0]):\n",
    "  label = proteins.iloc[i]\n",
    "  value = protein_counts[i]\n",
    "  percent = round(value/total_papers,2)*100\n",
    "  pie_chart_input['protein'].append(label)\n",
    "  pie_chart_input['percent'].append(percent)\n",
    "\n",
    "pie_chart_input"
   ]
  },
  {
   "cell_type": "code",
   "execution_count": 0,
   "metadata": {
    "colab": {},
    "colab_type": "code",
    "id": "FOXk9Af6epUJ"
   },
   "outputs": [],
   "source": [
    "print(SPIKE_WCPV_pt,R1AB_WCPV_pt,NCAP_WCPV_pt,R1A_WCPV_pt,NS8_WCPV_pt,VME1_WCPV_pt,AP3A_WCPV_pt,VEMP_WCPV_pt,A0A663DJA2_9BETC_pt,ORF9B_WCPV_pt, Y14_WCPV_pt,NS6_WCPV_pt,NS7B_WCPV_pt,NS7A_WCPV_pt)"
   ]
  },
  {
   "cell_type": "code",
   "execution_count": 182,
   "metadata": {
    "colab": {
     "base_uri": "https://localhost:8080/",
     "height": 514
    },
    "colab_type": "code",
    "id": "qjsNB9O6xflD",
    "outputId": "21c7cd0b-a41b-406b-d84e-eb7e2c8b726e"
   },
   "outputs": [
    {
     "data": {
      "text/html": [
       "<div>\n",
       "<style scoped>\n",
       "    .dataframe tbody tr th:only-of-type {\n",
       "        vertical-align: middle;\n",
       "    }\n",
       "\n",
       "    .dataframe tbody tr th {\n",
       "        vertical-align: top;\n",
       "    }\n",
       "\n",
       "    .dataframe thead th {\n",
       "        text-align: right;\n",
       "    }\n",
       "</style>\n",
       "<table border=\"1\" class=\"dataframe\">\n",
       "  <thead>\n",
       "    <tr style=\"text-align: right;\">\n",
       "      <th></th>\n",
       "      <th>protein</th>\n",
       "      <th>percent</th>\n",
       "    </tr>\n",
       "  </thead>\n",
       "  <tbody>\n",
       "    <tr>\n",
       "      <th>0</th>\n",
       "      <td>SPIKE_CVHSA</td>\n",
       "      <td>66.0</td>\n",
       "    </tr>\n",
       "    <tr>\n",
       "      <th>1</th>\n",
       "      <td>NCAP_CVHSA</td>\n",
       "      <td>40.0</td>\n",
       "    </tr>\n",
       "    <tr>\n",
       "      <th>2</th>\n",
       "      <td>VME1_CVHSA</td>\n",
       "      <td>24.0</td>\n",
       "    </tr>\n",
       "    <tr>\n",
       "      <th>3</th>\n",
       "      <td>VEMP_CVHSA</td>\n",
       "      <td>21.0</td>\n",
       "    </tr>\n",
       "    <tr>\n",
       "      <th>4</th>\n",
       "      <td>R1AB_CVHSA</td>\n",
       "      <td>17.0</td>\n",
       "    </tr>\n",
       "    <tr>\n",
       "      <th>5</th>\n",
       "      <td>R1A_CVHSA</td>\n",
       "      <td>16.0</td>\n",
       "    </tr>\n",
       "    <tr>\n",
       "      <th>6</th>\n",
       "      <td>AP3A_CVHSA</td>\n",
       "      <td>3.0</td>\n",
       "    </tr>\n",
       "    <tr>\n",
       "      <th>7</th>\n",
       "      <td>NS6_CVHSA</td>\n",
       "      <td>3.0</td>\n",
       "    </tr>\n",
       "    <tr>\n",
       "      <th>8</th>\n",
       "      <td>NS3B_CVHSA</td>\n",
       "      <td>1.0</td>\n",
       "    </tr>\n",
       "    <tr>\n",
       "      <th>9</th>\n",
       "      <td>NS7A_CVHSA</td>\n",
       "      <td>1.0</td>\n",
       "    </tr>\n",
       "    <tr>\n",
       "      <th>10</th>\n",
       "      <td>NS7B_CVHSA</td>\n",
       "      <td>1.0</td>\n",
       "    </tr>\n",
       "    <tr>\n",
       "      <th>11</th>\n",
       "      <td>ORF9B_CVHSA</td>\n",
       "      <td>1.0</td>\n",
       "    </tr>\n",
       "    <tr>\n",
       "      <th>12</th>\n",
       "      <td>NS8A_CVHSA</td>\n",
       "      <td>0.0</td>\n",
       "    </tr>\n",
       "    <tr>\n",
       "      <th>13</th>\n",
       "      <td>NS8B_CVHSA</td>\n",
       "      <td>0.0</td>\n",
       "    </tr>\n",
       "    <tr>\n",
       "      <th>14</th>\n",
       "      <td>Y14_CVHSA</td>\n",
       "      <td>0.0</td>\n",
       "    </tr>\n",
       "  </tbody>\n",
       "</table>\n",
       "</div>"
      ],
      "text/plain": [
       "        protein  percent\n",
       "0   SPIKE_CVHSA     66.0\n",
       "1    NCAP_CVHSA     40.0\n",
       "2    VME1_CVHSA     24.0\n",
       "3    VEMP_CVHSA     21.0\n",
       "4    R1AB_CVHSA     17.0\n",
       "5     R1A_CVHSA     16.0\n",
       "6    AP3A_CVHSA      3.0\n",
       "7     NS6_CVHSA      3.0\n",
       "8    NS3B_CVHSA      1.0\n",
       "9    NS7A_CVHSA      1.0\n",
       "10   NS7B_CVHSA      1.0\n",
       "11  ORF9B_CVHSA      1.0\n",
       "12   NS8A_CVHSA      0.0\n",
       "13   NS8B_CVHSA      0.0\n",
       "14    Y14_CVHSA      0.0"
      ]
     },
     "execution_count": 182,
     "metadata": {
      "tags": []
     },
     "output_type": "execute_result"
    }
   ],
   "source": [
    "pie_chart_input = pd.DataFrame(pie_chart_input)\n",
    "pie_chart_input = pie_chart_input.sort_values(by='percent', ascending=False, ignore_index=True)\n",
    "pie_chart_input\n"
   ]
  },
  {
   "cell_type": "code",
   "execution_count": 195,
   "metadata": {
    "colab": {
     "base_uri": "https://localhost:8080/",
     "height": 235
    },
    "colab_type": "code",
    "id": "P1VtZlAj0xOJ",
    "outputId": "ccf16f37-7b7f-4282-e701-5b0dcc5e096a"
   },
   "outputs": [
    {
     "data": {
      "text/html": [
       "<div>\n",
       "<style scoped>\n",
       "    .dataframe tbody tr th:only-of-type {\n",
       "        vertical-align: middle;\n",
       "    }\n",
       "\n",
       "    .dataframe tbody tr th {\n",
       "        vertical-align: top;\n",
       "    }\n",
       "\n",
       "    .dataframe thead th {\n",
       "        text-align: right;\n",
       "    }\n",
       "</style>\n",
       "<table border=\"1\" class=\"dataframe\">\n",
       "  <thead>\n",
       "    <tr style=\"text-align: right;\">\n",
       "      <th></th>\n",
       "      <th>protein</th>\n",
       "      <th>percent</th>\n",
       "    </tr>\n",
       "  </thead>\n",
       "  <tbody>\n",
       "    <tr>\n",
       "      <th>0</th>\n",
       "      <td>SPIKE_CVHSA</td>\n",
       "      <td>66.0</td>\n",
       "    </tr>\n",
       "    <tr>\n",
       "      <th>1</th>\n",
       "      <td>NCAP_CVHSA</td>\n",
       "      <td>40.0</td>\n",
       "    </tr>\n",
       "    <tr>\n",
       "      <th>2</th>\n",
       "      <td>VME1_CVHSA</td>\n",
       "      <td>24.0</td>\n",
       "    </tr>\n",
       "    <tr>\n",
       "      <th>3</th>\n",
       "      <td>VEMP_CVHSA</td>\n",
       "      <td>21.0</td>\n",
       "    </tr>\n",
       "    <tr>\n",
       "      <th>4</th>\n",
       "      <td>R1AB_CVHSA</td>\n",
       "      <td>17.0</td>\n",
       "    </tr>\n",
       "    <tr>\n",
       "      <th>5</th>\n",
       "      <td>R1A_CVHSA</td>\n",
       "      <td>16.0</td>\n",
       "    </tr>\n",
       "  </tbody>\n",
       "</table>\n",
       "</div>"
      ],
      "text/plain": [
       "       protein  percent\n",
       "0  SPIKE_CVHSA     66.0\n",
       "1   NCAP_CVHSA     40.0\n",
       "2   VME1_CVHSA     24.0\n",
       "3   VEMP_CVHSA     21.0\n",
       "4   R1AB_CVHSA     17.0\n",
       "5    R1A_CVHSA     16.0"
      ]
     },
     "execution_count": 195,
     "metadata": {
      "tags": []
     },
     "output_type": "execute_result"
    }
   ],
   "source": [
    "#use only top 6 for pie chart\n",
    "input = pie_chart_input.iloc[0:6]\n",
    "input"
   ]
  },
  {
   "cell_type": "code",
   "execution_count": 196,
   "metadata": {
    "colab": {
     "base_uri": "https://localhost:8080/",
     "height": 119
    },
    "colab_type": "code",
    "id": "Y0UDGHZW1c5M",
    "outputId": "e5da1f75-d48b-4636-c27a-dc64864824f6"
   },
   "outputs": [
    {
     "data": {
      "text/plain": [
       "['SPIKE_CVHSA',\n",
       " 'NCAP_CVHSA',\n",
       " 'VME1_CVHSA',\n",
       " 'VEMP_CVHSA',\n",
       " 'R1AB_CVHSA',\n",
       " 'Other']"
      ]
     },
     "execution_count": 196,
     "metadata": {
      "tags": []
     },
     "output_type": "execute_result"
    }
   ],
   "source": [
    "#sum the rest\n",
    "labels = input.iloc[:,0].to_list()\n",
    "labels[-1] = 'Other'\n",
    "labels"
   ]
  },
  {
   "cell_type": "code",
   "execution_count": 197,
   "metadata": {
    "colab": {
     "base_uri": "https://localhost:8080/",
     "height": 34
    },
    "colab_type": "code",
    "id": "2PxzwVTR004U",
    "outputId": "5a85fa07-45a7-48b5-b2b0-ce5a0f50a78c"
   },
   "outputs": [
    {
     "data": {
      "text/plain": [
       "7.0"
      ]
     },
     "execution_count": 197,
     "metadata": {
      "tags": []
     },
     "output_type": "execute_result"
    }
   ],
   "source": [
    "other = pie_chart_input.iloc[7:,1].sum()\n",
    "other"
   ]
  },
  {
   "cell_type": "code",
   "execution_count": 199,
   "metadata": {
    "colab": {
     "base_uri": "https://localhost:8080/",
     "height": 34
    },
    "colab_type": "code",
    "id": "DsyqnQbC2B5w",
    "outputId": "741b0292-eadd-4002-9ebb-6e3926d136c7"
   },
   "outputs": [
    {
     "data": {
      "text/plain": [
       "[66.0, 40.0, 24.0, 21.0, 17.0, 7.0]"
      ]
     },
     "execution_count": 199,
     "metadata": {
      "tags": []
     },
     "output_type": "execute_result"
    }
   ],
   "source": [
    "sizes = input.iloc[:,1].to_list()\n",
    "sizes[-1] = other\n",
    "sizes"
   ]
  },
  {
   "cell_type": "code",
   "execution_count": 0,
   "metadata": {
    "colab": {},
    "colab_type": "code",
    "id": "ekFAzCJuepUP"
   },
   "outputs": [],
   "source": [
    "#Pie Chart - Adjust labels, sizes & explode after running on full data\n",
    "#https://matplotlib.org/3.1.1/gallery/pie_and_polar_charts/pie_features.html"
   ]
  },
  {
   "cell_type": "code",
   "execution_count": 200,
   "metadata": {
    "colab": {
     "base_uri": "https://localhost:8080/",
     "height": 468
    },
    "colab_type": "code",
    "id": "ppNsUuKR1SyD",
    "outputId": "91b21cf4-8455-4d10-f3e9-257400195437"
   },
   "outputs": [
    {
     "data": {
      "image/png": "[encoded data removed]",
      "text/plain": [
       "<Figure size 576x576 with 1 Axes>"
      ]
     },
     "metadata": {
      "tags": []
     },
     "output_type": "display_data"
    }
   ],
   "source": [
    "import matplotlib.pyplot as plt\n",
    "\n",
    "# Pie chart, where the slices will be ordered and plotted counter-clockwise:\n",
    "labels = labels\n",
    "sizes = sizes\n",
    "explode = (0.1, 0.0, 0, 0,0,0)  # only \"explode\" the 1st slice (i.e. 'Hogs')\n",
    "\n",
    "fig1, ax1 = plt.subplots()\n",
    "ax1.pie(sizes, explode=explode, labels=labels, autopct='%1.1f%%',\n",
    "        shadow=True, startangle=90)\n",
    "ax1.axis('equal')  # Equal aspect ratio ensures that pie is drawn as a circle.\n",
    "fig = plt.gcf()\n",
    "fig.set_size_inches(8,8)\n",
    "plt.show()\n"
   ]
  },
  {
   "cell_type": "code",
   "execution_count": 0,
   "metadata": {
    "colab": {},
    "colab_type": "code",
    "id": "Orn_NZa4epUS"
   },
   "outputs": [],
   "source": [
    "import matplotlib.pyplot as plt\n",
    "\n",
    "# Pie chart, where the slices will be ordered and plotted counter-clockwise:\n",
    "labels = 'SPIKE_WCPV_pt','R1A_WCPV_pt','NCAP_WCPV_pt','VME1_WCPV_pt','VEMP_WCPV_pt','Others'\n",
    "sizes = [0.38,0.32,0.27,0.21,0.16,0.02]\n",
    "explode = (0.1, 0.0, 0, 0,0,0)  # only \"explode\" the 2nd slice (i.e. 'Hogs')\n",
    "\n",
    "fig1, ax1 = plt.subplots()\n",
    "ax1.pie(sizes, explode=explode, labels=labels, autopct='%1.1f%%',\n",
    "        shadow=True, startangle=90)\n",
    "ax1.axis('equal')  # Equal aspect ratio ensures that pie is drawn as a circle.\n",
    "fig = plt.gcf()\n",
    "fig.set_size_inches(8,8)\n",
    "plt.show()\n"
   ]
  },
  {
   "cell_type": "code",
   "execution_count": 0,
   "metadata": {
    "colab": {},
    "colab_type": "code",
    "id": "ViJOuJyyepUd"
   },
   "outputs": [],
   "source": [
    "#Histogram for strains: top 5 most mentioned strains across the groups (includes multiple counts in one paper)\n",
    "#IMPORTANT: This is proteins.\n"
   ]
  },
  {
   "cell_type": "code",
   "execution_count": 0,
   "metadata": {
    "colab": {},
    "colab_type": "code",
    "id": "1XYXY_AHepUh"
   },
   "outputs": [],
   "source": [
    "cvprot_counts = df_cvprot['CVPROT'].value_counts()"
   ]
  },
  {
   "cell_type": "code",
   "execution_count": 202,
   "metadata": {
    "colab": {
     "base_uri": "https://localhost:8080/",
     "height": 370
    },
    "colab_type": "code",
    "id": "ncxLLYJgepUl",
    "outputId": "c55bc22b-0a59-4a9a-b843-a0c09ad80209"
   },
   "outputs": [
    {
     "data": {
      "text/plain": [
       "Text(0, 0.5, 'protein')"
      ]
     },
     "execution_count": 202,
     "metadata": {
      "tags": []
     },
     "output_type": "execute_result"
    },
    {
     "data": {
      "image/png": "[encoded data removed]",
      "text/plain": [
       "<Figure size 432x288 with 1 Axes>"
      ]
     },
     "metadata": {
      "needs_background": "light",
      "tags": []
     },
     "output_type": "display_data"
    }
   ],
   "source": [
    "cvprot_counts\n",
    "top_5 = cvprot_counts[0:5]\n",
    "top_5\n",
    "top_5.plot(kind='bar')\n",
    "plt.title('Top 5 Protein Mentions')\n",
    "plt.xlabel('value')\n",
    "plt.ylabel('protein')\n"
   ]
  },
  {
   "cell_type": "markdown",
   "metadata": {
    "colab_type": "text",
    "id": "zFeYUKZgepUw"
   },
   "source": [
    "## 5. Get Strain Count Data, Create HeatMaps of Strains"
   ]
  },
  {
   "cell_type": "code",
   "execution_count": 0,
   "metadata": {
    "colab": {},
    "colab_type": "code",
    "id": "Kl0Wvv5mepUx"
   },
   "outputs": [],
   "source": [
    "#https://www.kaggle.com/rtatman/co-occurrence-matrix-plot-in-python\n",
    "#Calculate and plot co-occurrence matrix for strains group and proteins (CVPROT). \n",
    "#Calculate and plot co-occurrence matrix for top 5 most mentioned strains across and proteins (CVPROT). \n",
    "#Use data from the block level(not paper)\n",
    "#Input: dataframe from step 3\n",
    "#Output: co-occurance heat maps"
   ]
  },
  {
   "cell_type": "code",
   "execution_count": 203,
   "metadata": {
    "colab": {
     "base_uri": "https://localhost:8080/",
     "height": 71
    },
    "colab_type": "code",
    "id": "9BOzy8o9epU2",
    "outputId": "ca0e65db-283e-4d9f-e96b-4e7337605723"
   },
   "outputs": [
    {
     "name": "stderr",
     "output_type": "stream",
     "text": [
      "/usr/local/lib/python3.6/dist-packages/statsmodels/tools/_testing.py:19: FutureWarning: pandas.util.testing is deprecated. Use the functions in the public API at pandas.testing instead.\n",
      "  import pandas.util.testing as tm\n"
     ]
    }
   ],
   "source": [
    "import seaborn as sns"
   ]
  },
  {
   "cell_type": "code",
   "execution_count": 204,
   "metadata": {
    "colab": {
     "base_uri": "https://localhost:8080/",
     "height": 34
    },
    "colab_type": "code",
    "id": "qaUajBHkepU-",
    "outputId": "8a996bf2-998f-4283-eaf2-09d38ddbe536"
   },
   "outputs": [
    {
     "data": {
      "text/plain": [
       "(26962, 5352)"
      ]
     },
     "execution_count": 204,
     "metadata": {
      "tags": []
     },
     "output_type": "execute_result"
    }
   ],
   "source": [
    "df_cvprot.shape[0], df_cvprot.PAPER_ID.nunique()  # <check the input data is block level. \n"
   ]
  },
  {
   "cell_type": "code",
   "execution_count": 0,
   "metadata": {
    "colab": {},
    "colab_type": "code",
    "id": "3LmiQRVGepVD"
   },
   "outputs": [],
   "source": [
    "#function to create counts dataframe\n",
    "def df_co_occurrance(df, strain_group):\n",
    "  strains_df = df.copy()  \n",
    "  for i in strain_group:\n",
    "        eval_match = df.SARS_COV.str.contains(i)\n",
    "        strains_df[i] = eval_match\n",
    "  return strains_df"
   ]
  },
  {
   "cell_type": "code",
   "execution_count": 0,
   "metadata": {
    "colab": {},
    "colab_type": "code",
    "id": "a3lXVI8iepVH"
   },
   "outputs": [],
   "source": [
    "# repeat for all strain groups\n",
    "strains_df = df_co_occurrance(df_cvprot,sars_sin_strains)"
   ]
  },
  {
   "cell_type": "code",
   "execution_count": 213,
   "metadata": {
    "colab": {
     "base_uri": "https://localhost:8080/",
     "height": 432
    },
    "colab_type": "code",
    "id": "jDx2mU3HepVP",
    "outputId": "11b42a2a-c3f7-421f-c0bf-290195f5600c"
   },
   "outputs": [
    {
     "name": "stdout",
     "output_type": "stream",
     "text": [
      "sars_sins_strains\n"
     ]
    },
    {
     "data": {
      "text/plain": [
       "<matplotlib.axes._subplots.AxesSubplot at 0x7fec699cf710>"
      ]
     },
     "execution_count": 213,
     "metadata": {
      "tags": []
     },
     "output_type": "execute_result"
    },
    {
     "data": {
      "image/png": "[encoded data removed]",
      "text/plain": [
       "<Figure size 432x288 with 2 Axes>"
      ]
     },
     "metadata": {
      "needs_background": "light",
      "tags": []
     },
     "output_type": "display_data"
    }
   ],
   "source": [
    "#transform data and create heatmap (repeat for all strain groups)\n",
    "strains_df.iloc[:,4:] = strains_df.iloc[:,4:].astype(int) \n",
    "strains_df = strains_df.iloc[:,3:]\n",
    "prot_strains_grpd = strains_df.groupby('CVPROT').sum()\n",
    "print('sars_sins_strains')\n",
    "sns.heatmap(prot_strains_grpd)"
   ]
  },
  {
   "cell_type": "code",
   "execution_count": 0,
   "metadata": {
    "colab": {},
    "colab_type": "code",
    "id": "EABNCNcCepVU"
   },
   "outputs": [],
   "source": [
    "strains_df = df_co_occurrance(df_cvprot,sars_betacov_strains)"
   ]
  },
  {
   "cell_type": "code",
   "execution_count": 216,
   "metadata": {
    "colab": {
     "base_uri": "https://localhost:8080/",
     "height": 409
    },
    "colab_type": "code",
    "id": "bBjKlYaF5RWM",
    "outputId": "d071361a-9f53-4213-9410-9ece2e0080c0"
   },
   "outputs": [
    {
     "name": "stdout",
     "output_type": "stream",
     "text": [
      "sars_betacov_strains\n"
     ]
    },
    {
     "data": {
      "text/plain": [
       "<matplotlib.axes._subplots.AxesSubplot at 0x7fec69040320>"
      ]
     },
     "execution_count": 216,
     "metadata": {
      "tags": []
     },
     "output_type": "execute_result"
    },
    {
     "data": {
      "image/png": "[encoded data removed]",
      "text/plain": [
       "<Figure size 432x288 with 2 Axes>"
      ]
     },
     "metadata": {
      "needs_background": "light",
      "tags": []
     },
     "output_type": "display_data"
    }
   ],
   "source": [
    "#transform data and create heatmap (repeat for all strain groups)\n",
    "strains_df.iloc[:,4:] = strains_df.iloc[:,4:].astype(int) \n",
    "strains_df = strains_df.iloc[:,3:]\n",
    "prot_strains_grpd = strains_df.groupby('CVPROT').sum()\n",
    "print('sars_betacov_strains')\n",
    "sns.heatmap(prot_strains_grpd)"
   ]
  },
  {
   "cell_type": "code",
   "execution_count": 0,
   "metadata": {
    "colab": {},
    "colab_type": "code",
    "id": "G4-myqgB5W6l"
   },
   "outputs": [],
   "source": [
    "strains_df = df_co_occurrance(df_cvprot,sars_tw_strains)"
   ]
  },
  {
   "cell_type": "code",
   "execution_count": 218,
   "metadata": {
    "colab": {
     "base_uri": "https://localhost:8080/",
     "height": 409
    },
    "colab_type": "code",
    "id": "miVIzfpE5W3H",
    "outputId": "4bb59761-d167-40b1-d028-00546b6b30e9"
   },
   "outputs": [
    {
     "name": "stdout",
     "output_type": "stream",
     "text": [
      "sars_tw_strains\n"
     ]
    },
    {
     "data": {
      "text/plain": [
       "<matplotlib.axes._subplots.AxesSubplot at 0x7fec69411dd8>"
      ]
     },
     "execution_count": 218,
     "metadata": {
      "tags": []
     },
     "output_type": "execute_result"
    },
    {
     "data": {
      "image/png": "[encoded data removed]",
      "text/plain": [
       "<Figure size 432x288 with 2 Axes>"
      ]
     },
     "metadata": {
      "needs_background": "light",
      "tags": []
     },
     "output_type": "display_data"
    }
   ],
   "source": [
    "#transform data and create heatmap (repeat for all strain groups)\n",
    "strains_df.iloc[:,4:] = strains_df.iloc[:,4:].astype(int) \n",
    "strains_df = strains_df.iloc[:,3:]\n",
    "prot_strains_grpd = strains_df.groupby('CVPROT').sum()\n",
    "print('sars_tw_strains')\n",
    "sns.heatmap(prot_strains_grpd)"
   ]
  },
  {
   "cell_type": "code",
   "execution_count": 0,
   "metadata": {
    "colab": {},
    "colab_type": "code",
    "id": "apd7p-2O5W0L"
   },
   "outputs": [],
   "source": [
    "strains_df = df_co_occurrance(df_cvprot,sars_shanghai_strains)"
   ]
  },
  {
   "cell_type": "code",
   "execution_count": 220,
   "metadata": {
    "colab": {
     "base_uri": "https://localhost:8080/",
     "height": 458
    },
    "colab_type": "code",
    "id": "92mvpSXD57Re",
    "outputId": "e89be351-ad13-461c-e185-b0d3da95bfa2"
   },
   "outputs": [
    {
     "name": "stdout",
     "output_type": "stream",
     "text": [
      "sars_shanghai_strains\n"
     ]
    },
    {
     "data": {
      "text/plain": [
       "<matplotlib.axes._subplots.AxesSubplot at 0x7fec69ebf668>"
      ]
     },
     "execution_count": 220,
     "metadata": {
      "tags": []
     },
     "output_type": "execute_result"
    },
    {
     "data": {
      "image/png": "[encoded data removed]",
      "text/plain": [
       "<Figure size 432x288 with 2 Axes>"
      ]
     },
     "metadata": {
      "needs_background": "light",
      "tags": []
     },
     "output_type": "display_data"
    }
   ],
   "source": [
    "#transform data and create heatmap (repeat for all strain groups)\n",
    "strains_df.iloc[:,4:] = strains_df.iloc[:,4:].astype(int) \n",
    "strains_df = strains_df.iloc[:,3:]\n",
    "prot_strains_grpd = strains_df.groupby('CVPROT').sum()\n",
    "print('sars_shanghai_strains')\n",
    "sns.heatmap(prot_strains_grpd)"
   ]
  },
  {
   "cell_type": "code",
   "execution_count": 0,
   "metadata": {
    "colab": {},
    "colab_type": "code",
    "id": "Udy1ovnw57O8"
   },
   "outputs": [],
   "source": [
    "strains_df = df_co_occurrance(df_cvprot,sars_gz_strains)"
   ]
  },
  {
   "cell_type": "code",
   "execution_count": 222,
   "metadata": {
    "colab": {
     "base_uri": "https://localhost:8080/",
     "height": 420
    },
    "colab_type": "code",
    "id": "Usli6xBQ57MV",
    "outputId": "eb33823e-e3a9-4f79-8ae9-be7ea9691e1c"
   },
   "outputs": [
    {
     "name": "stdout",
     "output_type": "stream",
     "text": [
      "sars_gz_strains\n"
     ]
    },
    {
     "data": {
      "text/plain": [
       "<matplotlib.axes._subplots.AxesSubplot at 0x7fec69910390>"
      ]
     },
     "execution_count": 222,
     "metadata": {
      "tags": []
     },
     "output_type": "execute_result"
    },
    {
     "data": {
      "image/png": "[encoded data removed]",
      "text/plain": [
       "<Figure size 432x288 with 2 Axes>"
      ]
     },
     "metadata": {
      "needs_background": "light",
      "tags": []
     },
     "output_type": "display_data"
    }
   ],
   "source": [
    "#transform data and create heatmap (repeat for all strain groups)\n",
    "strains_df.iloc[:,4:] = strains_df.iloc[:,4:].astype(int) \n",
    "strains_df = strains_df.iloc[:,3:]\n",
    "prot_strains_grpd = strains_df.groupby('CVPROT').sum()\n",
    "print('sars_gz_strains')\n",
    "sns.heatmap(prot_strains_grpd)"
   ]
  },
  {
   "cell_type": "code",
   "execution_count": 0,
   "metadata": {
    "colab": {},
    "colab_type": "code",
    "id": "d4cPFrjR6o2I"
   },
   "outputs": [],
   "source": [
    "strains_df = df_co_occurrance(df_cvprot,sars_bj_stains)"
   ]
  },
  {
   "cell_type": "code",
   "execution_count": 224,
   "metadata": {
    "colab": {
     "base_uri": "https://localhost:8080/",
     "height": 425
    },
    "colab_type": "code",
    "id": "20sXBAAG6oze",
    "outputId": "b94a1e4f-13a7-4558-d321-1541bd789338"
   },
   "outputs": [
    {
     "name": "stdout",
     "output_type": "stream",
     "text": [
      "sars_bj_strains\n"
     ]
    },
    {
     "data": {
      "text/plain": [
       "<matplotlib.axes._subplots.AxesSubplot at 0x7fec6a3769e8>"
      ]
     },
     "execution_count": 224,
     "metadata": {
      "tags": []
     },
     "output_type": "execute_result"
    },
    {
     "data": {
      "image/png": "[encoded data removed]",
      "text/plain": [
       "<Figure size 432x288 with 2 Axes>"
      ]
     },
     "metadata": {
      "needs_background": "light",
      "tags": []
     },
     "output_type": "display_data"
    }
   ],
   "source": [
    "#transform data and create heatmap (repeat for all strain groups)\n",
    "strains_df.iloc[:,4:] = strains_df.iloc[:,4:].astype(int) \n",
    "strains_df = strains_df.iloc[:,3:]\n",
    "prot_strains_grpd = strains_df.groupby('CVPROT').sum()\n",
    "print('sars_bj_strains')\n",
    "sns.heatmap(prot_strains_grpd)"
   ]
  },
  {
   "cell_type": "code",
   "execution_count": 0,
   "metadata": {
    "colab": {},
    "colab_type": "code",
    "id": "0rmQ1NrB6owW"
   },
   "outputs": [],
   "source": [
    "strains_df = df_co_occurrance(df_cvprot,sars_lc_stains)"
   ]
  },
  {
   "cell_type": "code",
   "execution_count": 226,
   "metadata": {
    "colab": {
     "base_uri": "https://localhost:8080/",
     "height": 399
    },
    "colab_type": "code",
    "id": "2R_eq79h6otX",
    "outputId": "dd9145e9-85e6-4d8d-b3da-5bb6719c21b3"
   },
   "outputs": [
    {
     "name": "stdout",
     "output_type": "stream",
     "text": [
      "sars_lc_strains\n"
     ]
    },
    {
     "data": {
      "text/plain": [
       "<matplotlib.axes._subplots.AxesSubplot at 0x7fec69fddb38>"
      ]
     },
     "execution_count": 226,
     "metadata": {
      "tags": []
     },
     "output_type": "execute_result"
    },
    {
     "data": {
      "image/png": "[encoded data removed]",
      "text/plain": [
       "<Figure size 432x288 with 2 Axes>"
      ]
     },
     "metadata": {
      "needs_background": "light",
      "tags": []
     },
     "output_type": "display_data"
    }
   ],
   "source": [
    "#transform data and create heatmap (repeat for all strain groups)\n",
    "strains_df.iloc[:,4:] = strains_df.iloc[:,4:].astype(int) \n",
    "strains_df = strains_df.iloc[:,3:]\n",
    "prot_strains_grpd = strains_df.groupby('CVPROT').sum()\n",
    "print('sars_lc_strains')\n",
    "sns.heatmap(prot_strains_grpd)"
   ]
  },
  {
   "cell_type": "code",
   "execution_count": 0,
   "metadata": {
    "colab": {},
    "colab_type": "code",
    "id": "MczjmdX057JV"
   },
   "outputs": [],
   "source": []
  },
  {
   "cell_type": "code",
   "execution_count": 0,
   "metadata": {
    "colab": {},
    "colab_type": "code",
    "id": "_FxE8TGf57Dl"
   },
   "outputs": [],
   "source": []
  },
  {
   "cell_type": "code",
   "execution_count": 0,
   "metadata": {
    "colab": {},
    "colab_type": "code",
    "id": "wAusjize5WxA"
   },
   "outputs": [],
   "source": []
  },
  {
   "cell_type": "code",
   "execution_count": 0,
   "metadata": {
    "colab": {},
    "colab_type": "code",
    "id": "zWmMZa0Z5Wt5"
   },
   "outputs": [],
   "source": []
  }
 ],
 "metadata": {
  "accelerator": "TPU",
  "colab": {
   "collapsed_sections": [],
   "machine_shape": "hm",
   "name": "SARS_proteins_co-occurence.ipynb",
   "provenance": [],
   "toc_visible": true
  },
  "kernelspec": {
   "display_name": "Python 3",
   "language": "python",
   "name": "python3"
  },
  "language_info": {
   "codemirror_mode": {
    "name": "ipython",
    "version": 3
   },
   "file_extension": ".py",
   "mimetype": "text/x-python",
   "name": "python",
   "nbconvert_exporter": "python",
   "pygments_lexer": "ipython3",
   "version": "3.6.4"
  }
 },
 "nbformat": 4,
 "nbformat_minor": 1
}
